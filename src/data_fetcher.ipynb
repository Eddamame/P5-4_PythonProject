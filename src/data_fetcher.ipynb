{
 "cells": [
  {
   "cell_type": "markdown",
   "id": "2473b8ab",
   "metadata": {},
   "source": [
    "## Import Libraries"
   ]
  },
  {
   "cell_type": "code",
   "execution_count": 46,
   "id": "e1781da7",
   "metadata": {},
   "outputs": [],
   "source": [
    "import requests\n",
    "import pandas as pd\n",
    "import time\n",
    "from datetime import datetime"
   ]
  },
  {
   "cell_type": "code",
   "execution_count": 47,
   "id": "1545cad4",
   "metadata": {},
   "outputs": [],
   "source": [
    "# List of Selected Tickers we want to analyse \n",
    "tickers = ['AAPL', 'MSFT', 'GOOGL', 'AMZN', 'TSLA']"
   ]
  },
  {
   "cell_type": "code",
   "execution_count": 93,
   "id": "a3439865",
   "metadata": {},
   "outputs": [],
   "source": [
    "# store stockdata here \n",
    "stock_data = []"
   ]
  },
  {
   "cell_type": "markdown",
   "id": "da504264",
   "metadata": {},
   "source": [
    "### API Calls for Multiple Tickers\n",
    "#### Storing data to Stock_Data\n",
    "Transforming open, close, high, low from str to floats,\n",
    "Date to date object \n",
    "volume from str to int"
   ]
  },
  {
   "cell_type": "code",
   "execution_count": null,
   "id": "d7b38e15",
   "metadata": {},
   "outputs": [],
   "source": [
    "# outputsize defaults to compact if you want 20 years of data you can change to \"= full\" \n",
    "# monthly data defaults to full - they returned me over 500 data points for 1 ticker \n",
    "\n",
    "api_key = \"9JPRF2OKFQM0FT0U\"\n",
    "base_url_template = 'https://www.alphavantage.co/query?function=TIME_SERIES_DAILY&symbol={symbol}&apikey={api_key}&outputsize=compact'\n",
    "\n",
    "for tick in tickers:\n",
    "    url = base_url_template.format(symbol=tick, api_key=api_key)\n",
    "    try:\n",
    "        r = requests.get(url)\n",
    "        r.raise_for_status()  \n",
    "        data = r.json()\n",
    "\n",
    "        time_series_key = 'Time Series (Daily)' # Depends on what key is returned by the specified API function \n",
    "        if time_series_key in data:\n",
    "            for date_str, values in data[time_series_key].items():\n",
    "                row = {\n",
    "                    'Symbol': tick,\n",
    "                    'Date': date_str,  \n",
    "                    'Open': float(values['1. open']),\n",
    "                    'High': float(values['2. high']),\n",
    "                    'Low': float(values['3. low']),\n",
    "                    'Close': float(values['4. close']),\n",
    "                    'Volume': int(values['5. volume'])\n",
    "                }\n",
    "                stock_data.append(row)\n",
    "            print(f\"--- Successfully collected and formatted data for {tick} ---\")\n",
    "            \n",
    "        elif \"Error Message\" in data:\n",
    "            print(f\"API Error for {tick}: {data['Error Message']}\")\n",
    "        else:\n",
    "            print(f\"Unexpected data format for {tick}.\") \n",
    "        if \"Error Message\" in data:\n",
    "            print(f\"Error for {tick}: {data['Error Message']}\")\n",
    "\n",
    "        else:\n",
    "            print(f\"--- Data for {tick} ---\")\n",
    "            print(data)\n",
    "    except requests.exceptions.RequestException as e:\n",
    "        print(f\"An error occurred while fetching data for {tick}: {e}\")\n",
    "    time.sleep(20)    \n",
    "\n"
   ]
  },
  {
   "cell_type": "code",
   "execution_count": null,
   "id": "26a56ee6",
   "metadata": {},
   "outputs": [],
   "source": [
    "# convert to DataFrame  \n",
    "stock_df = pd.DataFrame(stock_data)\n",
    "\n",
    "# convert date from str to date time\n",
    "stock_df['Date'] = pd.to_datetime(stock_df['Date'])"
   ]
  },
  {
   "cell_type": "markdown",
   "id": "f250b47e",
   "metadata": {},
   "source": [
    "## Check the number of entries per ticker "
   ]
  },
  {
   "cell_type": "code",
   "execution_count": null,
   "id": "3f963d1b",
   "metadata": {},
   "outputs": [],
   "source": [
    "print(stock_df['Symbol'].value_counts())\n",
    "print(stock_df.head(20))"
   ]
  },
  {
   "cell_type": "markdown",
   "id": "d4342aac",
   "metadata": {},
   "source": [
    "## Convert to CSV"
   ]
  },
  {
   "cell_type": "code",
   "execution_count": 83,
   "id": "f3afae3f",
   "metadata": {},
   "outputs": [],
   "source": [
    "stock_df.to_csv('stock_data.csv', index=False)"
   ]
  }
 ],
 "metadata": {
  "kernelspec": {
   "display_name": "Python 3",
   "language": "python",
   "name": "python3"
  },
  "language_info": {
   "codemirror_mode": {
    "name": "ipython",
    "version": 3
   },
   "file_extension": ".py",
   "mimetype": "text/x-python",
   "name": "python",
   "nbconvert_exporter": "python",
   "pygments_lexer": "ipython3",
   "version": "3.10.4"
  }
 },
 "nbformat": 4,
 "nbformat_minor": 5
}

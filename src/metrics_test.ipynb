{
 "cells": [
  {
   "cell_type": "markdown",
   "id": "414f71d0",
   "metadata": {},
   "source": [
    "load packages"
   ]
  },
  {
   "cell_type": "code",
   "execution_count": 57,
   "id": "acaeda13",
   "metadata": {},
   "outputs": [],
   "source": [
    "import pandas as pd\n",
    "import numpy as np\n",
    "import matplotlib.pyplot as plt\n",
    "import datetime as dt \n",
    "import matplotlib.patches as mpatches\n"
   ]
  },
  {
   "cell_type": "markdown",
   "id": "bad22651",
   "metadata": {},
   "source": [
    "load data"
   ]
  },
  {
   "cell_type": "code",
   "execution_count": 80,
   "id": "c8e3e867",
   "metadata": {},
   "outputs": [
    {
     "name": "stdout",
     "output_type": "stream",
     "text": [
      "<class 'pandas.core.frame.DataFrame'>\n",
      "DatetimeIndex: 3020 entries, 2015-01-02 to 2017-12-29\n",
      "Data columns (total 6 columns):\n",
      " #   Column  Non-Null Count  Dtype  \n",
      "---  ------  --------------  -----  \n",
      " 0   open    3020 non-null   float64\n",
      " 1   high    3020 non-null   float64\n",
      " 2   low     3020 non-null   float64\n",
      " 3   close   3020 non-null   float64\n",
      " 4   volume  3020 non-null   int64  \n",
      " 5   Name    3020 non-null   object \n",
      "dtypes: float64(4), int64(1), object(1)\n",
      "memory usage: 165.2+ KB\n"
     ]
    },
    {
     "data": {
      "application/vnd.microsoft.datawrangler.viewer.v0+json": {
       "columns": [
        {
         "name": "date",
         "rawType": "datetime64[ns]",
         "type": "datetime"
        },
        {
         "name": "open",
         "rawType": "float64",
         "type": "float"
        },
        {
         "name": "high",
         "rawType": "float64",
         "type": "float"
        },
        {
         "name": "low",
         "rawType": "float64",
         "type": "float"
        },
        {
         "name": "close",
         "rawType": "float64",
         "type": "float"
        },
        {
         "name": "volume",
         "rawType": "int64",
         "type": "integer"
        },
        {
         "name": "Name",
         "rawType": "object",
         "type": "string"
        }
       ],
       "ref": "6c6098de-15c2-4eee-b96c-dd0c79172c16",
       "rows": [
        [
         "2015-01-02 00:00:00",
         "111.39",
         "111.44",
         "107.35",
         "109.33",
         "53204626",
         "AAPL"
        ],
        [
         "2015-01-05 00:00:00",
         "108.29",
         "108.65",
         "105.41",
         "106.25",
         "64285491",
         "AAPL"
        ],
        [
         "2015-01-06 00:00:00",
         "106.54",
         "107.43",
         "104.63",
         "106.26",
         "65797116",
         "AAPL"
        ],
        [
         "2015-01-07 00:00:00",
         "107.2",
         "108.2",
         "106.695",
         "107.75",
         "40105934",
         "AAPL"
        ],
        [
         "2015-01-08 00:00:00",
         "109.23",
         "112.15",
         "108.7",
         "111.89",
         "59364547",
         "AAPL"
        ]
       ],
       "shape": {
        "columns": 6,
        "rows": 5
       }
      },
      "text/html": [
       "<div>\n",
       "<style scoped>\n",
       "    .dataframe tbody tr th:only-of-type {\n",
       "        vertical-align: middle;\n",
       "    }\n",
       "\n",
       "    .dataframe tbody tr th {\n",
       "        vertical-align: top;\n",
       "    }\n",
       "\n",
       "    .dataframe thead th {\n",
       "        text-align: right;\n",
       "    }\n",
       "</style>\n",
       "<table border=\"1\" class=\"dataframe\">\n",
       "  <thead>\n",
       "    <tr style=\"text-align: right;\">\n",
       "      <th></th>\n",
       "      <th>open</th>\n",
       "      <th>high</th>\n",
       "      <th>low</th>\n",
       "      <th>close</th>\n",
       "      <th>volume</th>\n",
       "      <th>Name</th>\n",
       "    </tr>\n",
       "    <tr>\n",
       "      <th>date</th>\n",
       "      <th></th>\n",
       "      <th></th>\n",
       "      <th></th>\n",
       "      <th></th>\n",
       "      <th></th>\n",
       "      <th></th>\n",
       "    </tr>\n",
       "  </thead>\n",
       "  <tbody>\n",
       "    <tr>\n",
       "      <th>2015-01-02</th>\n",
       "      <td>111.39</td>\n",
       "      <td>111.44</td>\n",
       "      <td>107.350</td>\n",
       "      <td>109.33</td>\n",
       "      <td>53204626</td>\n",
       "      <td>AAPL</td>\n",
       "    </tr>\n",
       "    <tr>\n",
       "      <th>2015-01-05</th>\n",
       "      <td>108.29</td>\n",
       "      <td>108.65</td>\n",
       "      <td>105.410</td>\n",
       "      <td>106.25</td>\n",
       "      <td>64285491</td>\n",
       "      <td>AAPL</td>\n",
       "    </tr>\n",
       "    <tr>\n",
       "      <th>2015-01-06</th>\n",
       "      <td>106.54</td>\n",
       "      <td>107.43</td>\n",
       "      <td>104.630</td>\n",
       "      <td>106.26</td>\n",
       "      <td>65797116</td>\n",
       "      <td>AAPL</td>\n",
       "    </tr>\n",
       "    <tr>\n",
       "      <th>2015-01-07</th>\n",
       "      <td>107.20</td>\n",
       "      <td>108.20</td>\n",
       "      <td>106.695</td>\n",
       "      <td>107.75</td>\n",
       "      <td>40105934</td>\n",
       "      <td>AAPL</td>\n",
       "    </tr>\n",
       "    <tr>\n",
       "      <th>2015-01-08</th>\n",
       "      <td>109.23</td>\n",
       "      <td>112.15</td>\n",
       "      <td>108.700</td>\n",
       "      <td>111.89</td>\n",
       "      <td>59364547</td>\n",
       "      <td>AAPL</td>\n",
       "    </tr>\n",
       "  </tbody>\n",
       "</table>\n",
       "</div>"
      ],
      "text/plain": [
       "              open    high      low   close    volume  Name\n",
       "date                                                       \n",
       "2015-01-02  111.39  111.44  107.350  109.33  53204626  AAPL\n",
       "2015-01-05  108.29  108.65  105.410  106.25  64285491  AAPL\n",
       "2015-01-06  106.54  107.43  104.630  106.26  65797116  AAPL\n",
       "2015-01-07  107.20  108.20  106.695  107.75  40105934  AAPL\n",
       "2015-01-08  109.23  112.15  108.700  111.89  59364547  AAPL"
      ]
     },
     "execution_count": 80,
     "metadata": {},
     "output_type": "execute_result"
    }
   ],
   "source": [
    "file_path = '../data/StockAnalysisDataset.csv'\n",
    "data = pd.read_csv(file_path, parse_dates=['date'], index_col='date')\n",
    "data.info()\n",
    "data.head()\n"
   ]
  },
  {
   "cell_type": "markdown",
   "id": "c60faa8b",
   "metadata": {},
   "source": [
    "## Isolate Data by Tickers"
   ]
  },
  {
   "cell_type": "code",
   "execution_count": 69,
   "id": "b4e1d114",
   "metadata": {},
   "outputs": [],
   "source": [
    "def get_ticker(data, ticker=None):\n",
    "    \"\"\"\n",
    "    Returns closing prices for the whole DataFrame or for a specific ticker.\n",
    "    \"\"\"\n",
    "    if ticker:\n",
    "        filtered = data[data[\"Name\"] == ticker]\n",
    "        return filtered[\"close\"]\n",
    "    else:\n",
    "        return data[\"close\"]"
   ]
  },
  {
   "cell_type": "code",
   "execution_count": 71,
   "id": "8d1ecc64",
   "metadata": {},
   "outputs": [],
   "source": [
    "# create a function to filter out prices solely based on ticker name\n",
    "# get the closing prices \n",
    "\n",
    "def get_closing_prices(data, ticker=None):\n",
    "    \"\"\"\n",
    "    Returns closing prices for the whole DataFrame or for a specific ticker.\n",
    "    \"\"\"\n",
    "    if ticker:\n",
    "        filtered = data[data[\"Name\"] == ticker]\n",
    "        return filtered[\"close\"]\n",
    "    else:\n",
    "        return data[\"close\"]\n",
    "\n",
    "''' example:\n",
    "prices = get_closing_prices(data, \"AMZN\")\n",
    "print(prices) '''\n",
    "prices = get_closing_prices(data, \"AMZN\")"
   ]
  },
  {
   "cell_type": "markdown",
   "id": "36ce4366",
   "metadata": {},
   "source": [
    "## 1. Daily Returns"
   ]
  },
  {
   "cell_type": "code",
   "execution_count": 48,
   "id": "a358462b",
   "metadata": {},
   "outputs": [
    {
     "name": "stdout",
     "output_type": "stream",
     "text": [
      " \n",
      "--- DataFrame for AMZN with new 'daily_return' column ---\n",
      "              open    high       low   close   volume  Name  daily_return\n",
      "date                                                                     \n",
      "2015-01-02  312.58  314.75  306.9601  308.52  2788101  AMZN     -1.298867\n",
      "2015-01-05  307.01  308.38  300.8500  302.19  2774231  AMZN     -1.569981\n",
      "2015-01-06  302.24  303.00  292.3800  295.29  3519034  AMZN     -2.299497\n",
      "2015-01-07  297.50  301.28  295.3300  298.42  2640349  AMZN      0.309244\n",
      "2015-01-08  300.32  303.14  296.1100  300.46  3088398  AMZN      0.046617\n"
     ]
    }
   ],
   "source": [
    "# TODO: Implement the logic for calculating returns.\n",
    "def calculate_returns(data: pd.Series, ticker: str):    \n",
    "    filtered = data[data[\"Name\"] == ticker]\n",
    "    filtered = filtered.copy()\n",
    "    filtered['daily_return'] = ((filtered['close'] - filtered['open']) / filtered['open']) * 100\n",
    "    print(f\" \\n--- DataFrame for {ticker} with new 'daily_return' column ---\")\n",
    "    print(filtered.head())\n",
    "\n",
    "calculate_returns(data, \"AMZN\")"
   ]
  },
  {
   "cell_type": "markdown",
   "id": "8296c332",
   "metadata": {},
   "source": [
    "## 2. Simple Moving Average (SMA)"
   ]
  },
  {
   "cell_type": "code",
   "execution_count": null,
   "id": "495888a0",
   "metadata": {},
   "outputs": [
    {
     "data": {
      "application/vnd.microsoft.datawrangler.viewer.v0+json": {
       "columns": [
        {
         "name": "date",
         "rawType": "datetime64[ns]",
         "type": "datetime"
        },
        {
         "name": "Close_Price",
         "rawType": "float64",
         "type": "float"
        }
       ],
       "ref": "8b9e1590-35dc-49ae-8c8e-b966a77c6235",
       "rows": [
        [
         "2015-01-02 00:00:00",
         null
        ],
        [
         "2015-01-05 00:00:00",
         null
        ],
        [
         "2015-01-06 00:00:00",
         null
        ],
        [
         "2015-01-07 00:00:00",
         null
        ],
        [
         "2015-01-08 00:00:00",
         null
        ],
        [
         "2015-01-09 00:00:00",
         null
        ],
        [
         "2015-01-12 00:00:00",
         null
        ],
        [
         "2015-01-13 00:00:00",
         null
        ],
        [
         "2015-01-14 00:00:00",
         null
        ],
        [
         "2015-01-15 00:00:00",
         null
        ],
        [
         "2015-01-16 00:00:00",
         null
        ],
        [
         "2015-01-20 00:00:00",
         null
        ],
        [
         "2015-01-21 00:00:00",
         null
        ],
        [
         "2015-01-22 00:00:00",
         null
        ],
        [
         "2015-01-23 00:00:00",
         null
        ],
        [
         "2015-01-26 00:00:00",
         null
        ],
        [
         "2015-01-27 00:00:00",
         null
        ],
        [
         "2015-01-28 00:00:00",
         null
        ],
        [
         "2015-01-29 00:00:00",
         null
        ],
        [
         "2015-01-30 00:00:00",
         null
        ],
        [
         "2015-02-02 00:00:00",
         null
        ],
        [
         "2015-02-03 00:00:00",
         null
        ],
        [
         "2015-02-04 00:00:00",
         null
        ],
        [
         "2015-02-05 00:00:00",
         null
        ],
        [
         "2015-02-06 00:00:00",
         null
        ],
        [
         "2015-02-09 00:00:00",
         null
        ],
        [
         "2015-02-10 00:00:00",
         null
        ],
        [
         "2015-02-11 00:00:00",
         null
        ],
        [
         "2015-02-12 00:00:00",
         null
        ],
        [
         "2015-02-13 00:00:00",
         "325.79"
        ],
        [
         "2015-02-17 00:00:00",
         "328.02"
        ],
        [
         "2015-02-18 00:00:00",
         "330.39"
        ],
        [
         "2015-02-19 00:00:00",
         "333.18"
        ],
        [
         "2015-02-20 00:00:00",
         "336.02"
        ],
        [
         "2015-02-23 00:00:00",
         "338.68"
        ],
        [
         "2015-02-24 00:00:00",
         "341.4"
        ],
        [
         "2015-02-25 00:00:00",
         "344.53"
        ],
        [
         "2015-02-26 00:00:00",
         "347.53"
        ],
        [
         "2015-02-27 00:00:00",
         "350.43"
        ],
        [
         "2015-03-02 00:00:00",
         "353.72"
        ],
        [
         "2015-03-03 00:00:00",
         "356.85"
        ],
        [
         "2015-03-04 00:00:00",
         "359.96"
        ],
        [
         "2015-03-05 00:00:00",
         "362.98"
        ],
        [
         "2015-03-06 00:00:00",
         "365.3"
        ],
        [
         "2015-03-09 00:00:00",
         "367.51"
        ],
        [
         "2015-03-10 00:00:00",
         "369.5"
        ],
        [
         "2015-03-11 00:00:00",
         "371.49"
        ],
        [
         "2015-03-12 00:00:00",
         "373.83"
        ],
        [
         "2015-03-13 00:00:00",
         "375.79"
        ],
        [
         "2015-03-16 00:00:00",
         "376.42"
        ]
       ],
       "shape": {
        "columns": 1,
        "rows": 755
       }
      },
      "text/html": [
       "<div>\n",
       "<style scoped>\n",
       "    .dataframe tbody tr th:only-of-type {\n",
       "        vertical-align: middle;\n",
       "    }\n",
       "\n",
       "    .dataframe tbody tr th {\n",
       "        vertical-align: top;\n",
       "    }\n",
       "\n",
       "    .dataframe thead th {\n",
       "        text-align: right;\n",
       "    }\n",
       "</style>\n",
       "<table border=\"1\" class=\"dataframe\">\n",
       "  <thead>\n",
       "    <tr style=\"text-align: right;\">\n",
       "      <th></th>\n",
       "      <th>Close_Price</th>\n",
       "    </tr>\n",
       "    <tr>\n",
       "      <th>date</th>\n",
       "      <th></th>\n",
       "    </tr>\n",
       "  </thead>\n",
       "  <tbody>\n",
       "    <tr>\n",
       "      <th>2015-01-02</th>\n",
       "      <td>NaN</td>\n",
       "    </tr>\n",
       "    <tr>\n",
       "      <th>2015-01-05</th>\n",
       "      <td>NaN</td>\n",
       "    </tr>\n",
       "    <tr>\n",
       "      <th>2015-01-06</th>\n",
       "      <td>NaN</td>\n",
       "    </tr>\n",
       "    <tr>\n",
       "      <th>2015-01-07</th>\n",
       "      <td>NaN</td>\n",
       "    </tr>\n",
       "    <tr>\n",
       "      <th>2015-01-08</th>\n",
       "      <td>NaN</td>\n",
       "    </tr>\n",
       "    <tr>\n",
       "      <th>...</th>\n",
       "      <td>...</td>\n",
       "    </tr>\n",
       "    <tr>\n",
       "      <th>2017-12-22</th>\n",
       "      <td>1159.43</td>\n",
       "    </tr>\n",
       "    <tr>\n",
       "      <th>2017-12-26</th>\n",
       "      <td>1161.14</td>\n",
       "    </tr>\n",
       "    <tr>\n",
       "      <th>2017-12-27</th>\n",
       "      <td>1162.91</td>\n",
       "    </tr>\n",
       "    <tr>\n",
       "      <th>2017-12-28</th>\n",
       "      <td>1164.55</td>\n",
       "    </tr>\n",
       "    <tr>\n",
       "      <th>2017-12-29</th>\n",
       "      <td>1165.98</td>\n",
       "    </tr>\n",
       "  </tbody>\n",
       "</table>\n",
       "<p>755 rows × 1 columns</p>\n",
       "</div>"
      ],
      "text/plain": [
       "            Close_Price\n",
       "date                   \n",
       "2015-01-02          NaN\n",
       "2015-01-05          NaN\n",
       "2015-01-06          NaN\n",
       "2015-01-07          NaN\n",
       "2015-01-08          NaN\n",
       "...                 ...\n",
       "2017-12-22      1159.43\n",
       "2017-12-26      1161.14\n",
       "2017-12-27      1162.91\n",
       "2017-12-28      1164.55\n",
       "2017-12-29      1165.98\n",
       "\n",
       "[755 rows x 1 columns]"
      ]
     },
     "execution_count": 50,
     "metadata": {},
     "output_type": "execute_result"
    }
   ],
   "source": [
    "def calculate_sma(data: pd.Series, window:int, ticker: str): \n",
    "    \n",
    "    filtered = data[data[\"Name\"] == ticker]\n",
    "    filtered = filtered.copy()\n",
    "    SMA = pd.DataFrame()\n",
    "    SMA['Close_Price'] = filtered['close'].rolling(window = window).mean().round(2) \n",
    "    return SMA\n",
    "calculate_sma(data, 30, \"AMZN\")"
   ]
  },
  {
   "cell_type": "markdown",
   "id": "7b90acba",
   "metadata": {},
   "source": [
    "## 3. Upward and Downward Runs "
   ]
  },
  {
   "cell_type": "code",
   "execution_count": 73,
   "id": "12de0297",
   "metadata": {},
   "outputs": [],
   "source": [
    "# create a function to filter out prices solely based on ticker name\n",
    "# get the closing prices \n",
    "\n",
    "def get_closing_prices(data, ticker=None):\n",
    "    \"\"\"\n",
    "    Returns closing prices for the whole DataFrame or for a specific ticker.\n",
    "    \"\"\"\n",
    "    if ticker:\n",
    "        filtered = data[data[\"Name\"] == ticker]\n",
    "        return filtered[\"close\"]\n",
    "    else:\n",
    "        return data[\"close\"]\n",
    "\n",
    "''' example:\n",
    "prices = get_closing_prices(data, \"AMZN\")\n",
    "print(prices) '''\n",
    "prices = get_closing_prices(data, \"AMZN\")"
   ]
  },
  {
   "cell_type": "code",
   "execution_count": 74,
   "id": "3ae0e0a2",
   "metadata": {},
   "outputs": [],
   "source": [
    "def calculate_runs():\n",
    "    # daily changes in closing prices\n",
    "    changes = prices.diff()\n",
    "\n",
    "    # upward, no change, downward (1, 0, -1)\n",
    "    # limitation - mainly directional; ignores magnitude (Use RSI)\n",
    "    direction = np.where(changes > 0, 1, np.where(changes < 0, -1, 0))\n",
    "\n",
    "    # initialise run count\n",
    "    runs = []\n",
    "    current_run_length = 1\n",
    "    \n",
    "    # prevent indexerror\n",
    "    current_direction = direction[0] if len(direction) > 0 else 0\n",
    "    \n",
    "\n",
    "    # check if current direction is the same as indexed direction, if it is continue run count\n",
    "    for i in range(1, len(direction)):\n",
    "        if direction[i] == current_direction and direction[i] != 0:\n",
    "            # Continue current run\n",
    "            current_run_length += 1\n",
    "        else:\n",
    "            # End current run, start new one\n",
    "            if current_direction != 0:  # we're not tracking zero runs\n",
    "                runs.append({\n",
    "                    'start_date': prices.index[i - current_run_length],\n",
    "                    'end_date': prices.index[i - 1],\n",
    "                    'direction': 'Up' if current_direction == 1 else 'Down',\n",
    "                    'length': current_run_length,\n",
    "                    'start_index': i - current_run_length,\n",
    "                    'end_index': i - 1\n",
    "                })\n",
    "            current_run_length = 1\n",
    "            current_direction = direction[i]\n",
    "\n",
    "    # Close the loop, record the final run\n",
    "    if current_direction != 0:\n",
    "        runs.append({\n",
    "            'start_date': prices.index[len(prices) - current_run_length],\n",
    "            'end_date': prices.index[-1],\n",
    "            'direction': 'Up' if current_direction == 1 else 'Down',\n",
    "            'length': current_run_length,\n",
    "            'start_index': len(prices) - current_run_length,\n",
    "            'end_index': len(prices) - 1\n",
    "        })\n",
    "\n",
    "    return pd.DataFrame(runs), direction\n",
    "    \n",
    "runs_df, direction = calculate_runs()\n"
   ]
  },
  {
   "cell_type": "code",
   "execution_count": 75,
   "id": "9af3e436",
   "metadata": {},
   "outputs": [
    {
     "name": "stdout",
     "output_type": "stream",
     "text": [
      "{'notable_up_runs':     start_date   end_date direction  length  start_index  end_index\n",
      "93  2015-09-15 2015-09-21        Up       5          176        180\n",
      "103 2015-10-22 2015-10-29        Up       6          203        208\n",
      "145 2016-02-10 2016-02-17        Up       5          278        282\n",
      "163 2016-04-08 2016-04-18        Up       7          318        324\n",
      "171 2016-05-06 2016-05-12        Up       5          338        342\n",
      "195 2016-06-28 2016-07-06        Up       6          374        379\n",
      "205 2016-08-04 2016-08-12        Up       7          400        406\n",
      "239 2016-11-15 2016-11-22        Up       6          472        477\n",
      "253 2017-01-03 2017-01-09        Up       5          504        508\n",
      "263 2017-02-07 2017-02-13        Up       5          528        532\n",
      "283 2017-03-27 2017-04-05        Up       8          561        568\n",
      "291 2017-04-24 2017-05-01        Up       6          580        585\n",
      "299 2017-05-18 2017-05-30        Up       8          598        605\n",
      "321 2017-07-14 2017-07-20        Up       5          637        641\n",
      "345 2017-10-11 2017-10-17        Up       5          699        703\n",
      "361 2017-12-05 2017-12-11        Up       5          737        741, 'notable_down_runs':     start_date   end_date direction  length  start_index  end_index\n",
      "84  2015-08-18 2015-08-24      Down       5          157        161\n",
      "94  2015-09-22 2015-09-29      Down       6          181        186\n",
      "132 2015-12-30 2016-01-08      Down       7          250        256\n",
      "152 2016-03-03 2016-03-10      Down       6          293        298\n",
      "242 2016-11-28 2016-12-02      Down       5          480        484\n",
      "330 2017-08-15 2017-08-21      Down       5          659        663}\n"
     ]
    }
   ],
   "source": [
    "def get_significant_runs(runs_df, min_length=5):\n",
    "    # To filter out runs based on length depending on trading methodology\n",
    "    significant = runs_df[runs_df['length'] >= min_length]\n",
    "    up_runs = significant[significant['direction'] == 'Up']\n",
    "    down_runs = significant[significant['direction'] == 'Down']\n",
    "\n",
    "    return {\n",
    "        'notable_up_runs': up_runs,\n",
    "        'notable_down_runs': down_runs\n",
    "    }\n",
    "\n",
    "# Can use this to extract notable_up_runs or notable_down_runs\n",
    "significant_runs = get_significant_runs(runs_df)\n",
    "print(significant_runs)"
   ]
  },
  {
   "cell_type": "code",
   "execution_count": 79,
   "id": "5752b692",
   "metadata": {},
   "outputs": [
    {
     "data": {
      "image/png": "[encoded data removed]",
      "text/plain": [
       "<Figure size 1400x800 with 1 Axes>"
      ]
     },
     "metadata": {},
     "output_type": "display_data"
    }
   ],
   "source": [
    "def plot_runs(prices, runs_df, min_length=5):\n",
    "    \"\"\"\n",
    "    Simple plot with colored lines for significant runs\n",
    "    \n",
    "    Parameters:\n",
    "    prices (pd.Series): Price data\n",
    "    runs_df (pd.DataFrame): Runs data\n",
    "    min_length (int): Minimum run length to highlight\n",
    "    \"\"\"\n",
    "    plt.figure(figsize=(14, 8))\n",
    "    \n",
    "    # Plot price line\n",
    "    plt.plot(prices.index, prices.values, 'black', linewidth=1, alpha=0.7)\n",
    "    \n",
    "    # Filter significant runs\n",
    "    significant_runs = runs_df[runs_df['length'] >= min_length]\n",
    "    \n",
    "    # Draw colored lines for significant runs\n",
    "    for i, run in significant_runs.iterrows():\n",
    "        start_idx = run['start_index']\n",
    "        end_idx = run['end_index']\n",
    "        \n",
    "        # Get the price segment for this run\n",
    "        run_dates = prices.index[start_idx:end_idx+1]\n",
    "        run_prices = prices.iloc[start_idx:end_idx+1]\n",
    "        \n",
    "        # Choose color and draw thick line\n",
    "        color = 'green' if run['direction'] == 'Up' else 'red'\n",
    "        plt.plot(run_dates, run_prices, color=color, linewidth=4, alpha=0.8)\n",
    "        \n",
    "        # Add run length label\n",
    "        mid_idx = start_idx + (end_idx - start_idx) // 2\n",
    "        plt.annotate(f\"{run['length']}\", \n",
    "                    xy=(prices.index[mid_idx], prices.iloc[mid_idx]),\n",
    "                    xytext=(0, 15), textcoords='offset points',\n",
    "                    ha='center', fontsize=10, fontweight='bold',\n",
    "                    bbox=dict(boxstyle='round,pad=0.3', facecolor=color, alpha=0.7))\n",
    "    \n",
    "    plt.title(f'Stock Runs Analysis (≥{min_length} days)', fontsize=16, fontweight='bold')\n",
    "    plt.xlabel('Date')\n",
    "    plt.ylabel('Price ($)')\n",
    "    plt.grid(True, alpha=0.3)\n",
    "    \n",
    "    # Simple legend\n",
    "    if len(significant_runs[significant_runs['direction'] == 'Up']) > 0:\n",
    "        plt.plot([], [], 'green', linewidth=4, label='Up Runs')\n",
    "    if len(significant_runs[significant_runs['direction'] == 'Down']) > 0:\n",
    "        plt.plot([], [], 'red', linewidth=4, label='Down Runs')\n",
    "    plt.legend()\n",
    "    \n",
    "    plt.tight_layout()\n",
    "    plt.show()\n",
    "\n",
    "\n",
    "plot_runs(prices, runs_df, 6)"
   ]
  }
 ],
 "metadata": {
  "kernelspec": {
   "display_name": "Python 3",
   "language": "python",
   "name": "python3"
  },
  "language_info": {
   "codemirror_mode": {
    "name": "ipython",
    "version": 3
   },
   "file_extension": ".py",
   "mimetype": "text/x-python",
   "name": "python",
   "nbconvert_exporter": "python",
   "pygments_lexer": "ipython3",
   "version": "3.10.4"
  }
 },
 "nbformat": 4,
 "nbformat_minor": 5
}
